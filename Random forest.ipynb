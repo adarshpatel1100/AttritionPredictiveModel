{
 "cells": [
  {
   "cell_type": "code",
   "execution_count": 1,
   "metadata": {},
   "outputs": [],
   "source": [
    "import pandas as pd\n",
    "import numpy as np\n",
    "import matplotlib.pyplot as plt\n",
    "import seaborn as sns\n",
    "%matplotlib inline"
   ]
  },
  {
   "cell_type": "code",
   "execution_count": 2,
   "metadata": {},
   "outputs": [],
   "source": [
    "path=\"C:/Users/ABC/Desktop/HRnew.csv\""
   ]
  },
  {
   "cell_type": "code",
   "execution_count": 3,
   "metadata": {},
   "outputs": [],
   "source": [
    "headernames = ['Age','BusinessTravel','Department','DistanceFromHome','Education','EducationField',\n",
    "               'Gender','JobInvolvement','JobLevel','JobRole','JobSatisfaction','MonthlyIncome','MonthlyRate',\n",
    "               'OverTime','PercentSalaryHike','PerformanceRating','TotalWorkingYears','YearsAtCompany',\n",
    "               'YearsInCurrentRole','YearsSinceLastPromotion','YearsWithCurrManager','Attrition'\n",
    "]"
   ]
  },
  {
   "cell_type": "code",
   "execution_count": 4,
   "metadata": {},
   "outputs": [],
   "source": [
    "df = pd.read_csv(path, names=headernames)"
   ]
  },
  {
   "cell_type": "code",
   "execution_count": 5,
   "metadata": {},
   "outputs": [],
   "source": [
    "business= {'Travel_Rarely': 1,'Travel_Frequently': 2,'Non-Travel':3}"
   ]
  },
  {
   "cell_type": "code",
   "execution_count": 6,
   "metadata": {},
   "outputs": [],
   "source": [
    "df.BusinessTravel = [business[item] for item in df.BusinessTravel]"
   ]
  },
  {
   "cell_type": "code",
   "execution_count": 7,
   "metadata": {},
   "outputs": [],
   "source": [
    "gender= {\"Male\": 1,\"Female\": 2}\n",
    "df.Gender = [gender[item] for item in df.Gender]\n",
    "abc= {\"Sales\":1, \"Research & Development\":2, \"Human Resources\":3}\n",
    "df.Department= [abc[item] for item in df.Department]\n",
    "edu= {\"Medical\":1, \"Life Sciences\":2, \"Other\":3,\"Marketing\":4,\"Technical Degree\":5,\"Human Resources\":6}\n",
    "df.EducationField= [edu[item] for item in df.EducationField]\n",
    "job= {\"Sales Executive\":1, \"Research Scientist\":2, \"Laboratory Technician\":3,\"Healthcare Representative\":4,\"Manager\":5, \"Sales Representative\":6,\"Research Director\":7,\"Manufacturing Director\":8,\"Human Resources\":9}\n",
    "df.JobRole= [job[item] for item in df.JobRole]\n",
    "over = {\"Yes\":1, \"No\":2}\n",
    "df.OverTime= [over[item] for item in df.OverTime]"
   ]
  },
  {
   "cell_type": "code",
   "execution_count": 8,
   "metadata": {},
   "outputs": [],
   "source": [
    "x=df.iloc[:,:-1].values\n",
    "y=df.iloc[:,21].values"
   ]
  },
  {
   "cell_type": "code",
   "execution_count": 9,
   "metadata": {},
   "outputs": [],
   "source": [
    "from sklearn.model_selection import train_test_split"
   ]
  },
  {
   "cell_type": "code",
   "execution_count": 10,
   "metadata": {},
   "outputs": [],
   "source": [
    "x_train, x_test, y_train, y_test = train_test_split(x, y, test_size=0.3,random_state=26)"
   ]
  },
  {
   "cell_type": "code",
   "execution_count": 11,
   "metadata": {},
   "outputs": [
    {
     "data": {
      "text/plain": [
       "RandomForestClassifier(bootstrap=True, class_weight=None, criterion='gini',\n",
       "            max_depth=None, max_features='auto', max_leaf_nodes=None,\n",
       "            min_impurity_decrease=0.0, min_impurity_split=None,\n",
       "            min_samples_leaf=1, min_samples_split=2,\n",
       "            min_weight_fraction_leaf=0.0, n_estimators=100, n_jobs=None,\n",
       "            oob_score=False, random_state=8, verbose=0, warm_start=False)"
      ]
     },
     "execution_count": 11,
     "metadata": {},
     "output_type": "execute_result"
    }
   ],
   "source": [
    "from sklearn.ensemble import RandomForestClassifier\n",
    "rfc = RandomForestClassifier(n_estimators=100,random_state=8)\n",
    "rfc.fit(x_train, y_train)"
   ]
  },
  {
   "cell_type": "code",
   "execution_count": 12,
   "metadata": {},
   "outputs": [],
   "source": [
    "rfc_pred=rfc.predict(x_test)"
   ]
  },
  {
   "cell_type": "code",
   "execution_count": 13,
   "metadata": {},
   "outputs": [
    {
     "name": "stdout",
     "output_type": "stream",
     "text": [
      "88.43537414965986\n",
      "\n",
      "\n",
      "[[377   4]\n",
      " [ 47  13]]\n",
      "\n",
      "\n",
      "              precision    recall  f1-score   support\n",
      "\n",
      "          No       0.89      0.99      0.94       381\n",
      "         Yes       0.76      0.22      0.34        60\n",
      "\n",
      "   micro avg       0.88      0.88      0.88       441\n",
      "   macro avg       0.83      0.60      0.64       441\n",
      "weighted avg       0.87      0.88      0.86       441\n",
      "\n"
     ]
    }
   ],
   "source": [
    "from sklearn.metrics import accuracy_score\n",
    "from sklearn.metrics import classification_report,confusion_matrix\n",
    "\n",
    "print(accuracy_score(y_test,rfc_pred)*100)\n",
    "print('\\n')\n",
    "print(confusion_matrix(y_test,rfc_pred))\n",
    "print('\\n')\n",
    "print(classification_report(y_test,rfc_pred))"
   ]
  },
  {
   "cell_type": "code",
   "execution_count": 14,
   "metadata": {},
   "outputs": [
    {
     "data": {
      "text/plain": [
       "237"
      ]
     },
     "execution_count": 14,
     "metadata": {},
     "output_type": "execute_result"
    }
   ],
   "source": [
    "yes=df.loc[df.Attrition == 'Yes','Attrition'].count()\n",
    "yes"
   ]
  },
  {
   "cell_type": "code",
   "execution_count": 15,
   "metadata": {},
   "outputs": [
    {
     "data": {
      "text/plain": [
       "1233"
      ]
     },
     "execution_count": 15,
     "metadata": {},
     "output_type": "execute_result"
    }
   ],
   "source": [
    "no=df.loc[df.Attrition == 'No','Attrition'].count()\n",
    "no"
   ]
  },
  {
   "cell_type": "code",
   "execution_count": 16,
   "metadata": {},
   "outputs": [],
   "source": [
    "y_test = pd.DataFrame(y_test, columns = ['Attrition'])"
   ]
  },
  {
   "cell_type": "code",
   "execution_count": 17,
   "metadata": {},
   "outputs": [
    {
     "data": {
      "text/plain": [
       "60"
      ]
     },
     "execution_count": 17,
     "metadata": {},
     "output_type": "execute_result"
    }
   ],
   "source": [
    "yytestyes=y_test.loc[y_test.Attrition == 'Yes','Attrition'].count()\n",
    "yytestyes"
   ]
  },
  {
   "cell_type": "code",
   "execution_count": 18,
   "metadata": {},
   "outputs": [
    {
     "data": {
      "text/plain": [
       "381"
      ]
     },
     "execution_count": 18,
     "metadata": {},
     "output_type": "execute_result"
    }
   ],
   "source": [
    "yytestno=y_test.loc[y_test.Attrition == 'No','Attrition'].count()\n",
    "yytestno"
   ]
  },
  {
   "cell_type": "code",
   "execution_count": 19,
   "metadata": {},
   "outputs": [],
   "source": [
    "rfc_pred = pd.DataFrame(rfc_pred, columns = ['Attrition_Pred'])"
   ]
  },
  {
   "cell_type": "code",
   "execution_count": 20,
   "metadata": {},
   "outputs": [
    {
     "data": {
      "text/plain": [
       "424"
      ]
     },
     "execution_count": 20,
     "metadata": {},
     "output_type": "execute_result"
    }
   ],
   "source": [
    "yypredno=rfc_pred.loc[rfc_pred.Attrition_Pred == 'No','Attrition_Pred'].count()\n",
    "yypredno"
   ]
  },
  {
   "cell_type": "code",
   "execution_count": 21,
   "metadata": {},
   "outputs": [
    {
     "data": {
      "text/plain": [
       "17"
      ]
     },
     "execution_count": 21,
     "metadata": {},
     "output_type": "execute_result"
    }
   ],
   "source": [
    "yypredno=rfc_pred.loc[rfc_pred.Attrition_Pred == 'Yes','Attrition_Pred'].count()\n",
    "yypredno"
   ]
  },
  {
   "cell_type": "code",
   "execution_count": 22,
   "metadata": {},
   "outputs": [],
   "source": [
    "import pickle as pk\n",
    "with open('randomforestpickle','wb') as fw:\n",
    "    pk.dump(rfc,fw)"
   ]
  },
  {
   "cell_type": "code",
   "execution_count": null,
   "metadata": {},
   "outputs": [],
   "source": []
  },
  {
   "cell_type": "code",
   "execution_count": null,
   "metadata": {},
   "outputs": [],
   "source": []
  }
 ],
 "metadata": {
  "kernelspec": {
   "display_name": "Python 3",
   "language": "python",
   "name": "python3"
  },
  "language_info": {
   "codemirror_mode": {
    "name": "ipython",
    "version": 3
   },
   "file_extension": ".py",
   "mimetype": "text/x-python",
   "name": "python",
   "nbconvert_exporter": "python",
   "pygments_lexer": "ipython3",
   "version": "3.7.1"
  }
 },
 "nbformat": 4,
 "nbformat_minor": 2
}
